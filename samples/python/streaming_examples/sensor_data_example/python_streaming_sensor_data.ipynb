{
 "cells": [
  {
   "cell_type": "code",
   "execution_count": 18,
   "metadata": {
    "collapsed": false
   },
   "outputs": [],
   "source": [
    "import pandas as pd\n",
    "import socket\n",
    "\n",
    "s = socket.socket(socket.AF_INET, socket.SOCK_STREAM)\n",
    "s.connect(('rtd.hpwren.ucsd.edu', 12020))\n",
    "df = pd.DataFrame()\n",
    "for i in range(0, 10):\n",
    "    d = str(s.recv(1024))\n",
    "    p = d.split('\\\\', 2)\n",
    "    if len(df)>0:\n",
    "        df = df.append(pd.DataFrame({'number': [i], 'value': [p[2]]}))\n",
    "    else:\n",
    "        df = pd.DataFrame({'number': [i], 'value': [p[2]]})\n",
    "\n",
    "s.close()"
   ]
  },
  {
   "cell_type": "code",
   "execution_count": 19,
   "metadata": {
    "collapsed": false
   },
   "outputs": [
    {
     "data": {
      "text/html": [
       "<div>\n",
       "<table border=\"1\" class=\"dataframe\">\n",
       "  <thead>\n",
       "    <tr style=\"text-align: right;\">\n",
       "      <th></th>\n",
       "      <th>number</th>\n",
       "      <th>value</th>\n",
       "    </tr>\n",
       "  </thead>\n",
       "  <tbody>\n",
       "    <tr>\n",
       "      <th>0</th>\n",
       "      <td>0</td>\n",
       "      <td>t1496340731\\t0R1,Dn=070D,Dm=083D,Dx=094D,Sn=1....</td>\n",
       "    </tr>\n",
       "    <tr>\n",
       "      <th>0</th>\n",
       "      <td>1</td>\n",
       "      <td>t1496340732\\t0R1,Dn=070D,Dm=083D,Dx=094D,Sn=1....</td>\n",
       "    </tr>\n",
       "    <tr>\n",
       "      <th>0</th>\n",
       "      <td>2</td>\n",
       "      <td>t1496340733\\t0R1,Dn=070D,Dm=080D,Dx=094D,Sn=1....</td>\n",
       "    </tr>\n",
       "    <tr>\n",
       "      <th>0</th>\n",
       "      <td>3</td>\n",
       "      <td>t1496340734\\t0R1,Dn=070D,Dm=078D,Dx=094D,Sn=1....</td>\n",
       "    </tr>\n",
       "    <tr>\n",
       "      <th>0</th>\n",
       "      <td>4</td>\n",
       "      <td>t1496340735\\t0R1,Dn=070D,Dm=076D,Dx=091D,Sn=1....</td>\n",
       "    </tr>\n",
       "    <tr>\n",
       "      <th>0</th>\n",
       "      <td>5</td>\n",
       "      <td>t1496340736\\t0R1,Dn=070D,Dm=075D,Dx=090D,Sn=1....</td>\n",
       "    </tr>\n",
       "    <tr>\n",
       "      <th>0</th>\n",
       "      <td>6</td>\n",
       "      <td>t1496340737\\t0R1,Dn=070D,Dm=074D,Dx=080D,Sn=1....</td>\n",
       "    </tr>\n",
       "    <tr>\n",
       "      <th>0</th>\n",
       "      <td>7</td>\n",
       "      <td>t1496340738\\t0R1,Dn=070D,Dm=074D,Dx=080D,Sn=1....</td>\n",
       "    </tr>\n",
       "    <tr>\n",
       "      <th>0</th>\n",
       "      <td>8</td>\n",
       "      <td>t1496340739\\t0R1,Dn=070D,Dm=075D,Dx=080D,Sn=1....</td>\n",
       "    </tr>\n",
       "    <tr>\n",
       "      <th>0</th>\n",
       "      <td>9</td>\n",
       "      <td>t1496340739\\t0R2,Ta=15.6C,Ua=71.9P,Pa=883.5H\\n\\r'</td>\n",
       "    </tr>\n",
       "  </tbody>\n",
       "</table>\n",
       "</div>"
      ],
      "text/plain": [
       "   number                                              value\n",
       "0       0  t1496340731\\t0R1,Dn=070D,Dm=083D,Dx=094D,Sn=1....\n",
       "0       1  t1496340732\\t0R1,Dn=070D,Dm=083D,Dx=094D,Sn=1....\n",
       "0       2  t1496340733\\t0R1,Dn=070D,Dm=080D,Dx=094D,Sn=1....\n",
       "0       3  t1496340734\\t0R1,Dn=070D,Dm=078D,Dx=094D,Sn=1....\n",
       "0       4  t1496340735\\t0R1,Dn=070D,Dm=076D,Dx=091D,Sn=1....\n",
       "0       5  t1496340736\\t0R1,Dn=070D,Dm=075D,Dx=090D,Sn=1....\n",
       "0       6  t1496340737\\t0R1,Dn=070D,Dm=074D,Dx=080D,Sn=1....\n",
       "0       7  t1496340738\\t0R1,Dn=070D,Dm=074D,Dx=080D,Sn=1....\n",
       "0       8  t1496340739\\t0R1,Dn=070D,Dm=075D,Dx=080D,Sn=1....\n",
       "0       9  t1496340739\\t0R2,Ta=15.6C,Ua=71.9P,Pa=883.5H\\n\\r'"
      ]
     },
     "execution_count": 19,
     "metadata": {},
     "output_type": "execute_result"
    }
   ],
   "source": [
    "df"
   ]
  },
  {
   "cell_type": "code",
   "execution_count": 6,
   "metadata": {
    "collapsed": false
   },
   "outputs": [
    {
     "data": {
      "text/plain": [
       "[\"b'198.202.124.3\\\\tHPWREN:LP-WXT520:0R1:1:0\\\\t1496340420\\\\t0R1,Dn=106D,Dm=124D,Dx=149D,Sn=0.8M,Sm=1.2M,Sx=1.6M\\\\n\\\\r'\"]"
      ]
     },
     "execution_count": 6,
     "metadata": {},
     "output_type": "execute_result"
    }
   ],
   "source": [
    "d.split('\\t', 2)"
   ]
  },
  {
   "cell_type": "code",
   "execution_count": 8,
   "metadata": {
    "collapsed": false
   },
   "outputs": [
    {
     "ename": "IndexError",
     "evalue": "list index out of range",
     "output_type": "error",
     "traceback": [
      "\u001b[0;31m---------------------------------------------------------------------------\u001b[0m",
      "\u001b[0;31mIndexError\u001b[0m                                Traceback (most recent call last)",
      "\u001b[0;32m<ipython-input-8-a274c8f4d682>\u001b[0m in \u001b[0;36m<module>\u001b[0;34m()\u001b[0m\n\u001b[0;32m----> 1\u001b[0;31m \u001b[0mp\u001b[0m\u001b[1;33m[\u001b[0m\u001b[1;36m2\u001b[0m\u001b[1;33m]\u001b[0m\u001b[1;33m\u001b[0m\u001b[0m\n\u001b[0m",
      "\u001b[0;31mIndexError\u001b[0m: list index out of range"
     ]
    }
   ],
   "source": [
    "p[2]"
   ]
  },
  {
   "cell_type": "code",
   "execution_count": 9,
   "metadata": {
    "collapsed": false
   },
   "outputs": [
    {
     "data": {
      "text/plain": [
       "\"b'198.202.124.3\\\\tHPWREN:LP-WXT520:0R1:1:0\\\\t1496340511\\\\t0R1,Dn=078D,Dm=093D,Dx=107D,Sn=1.3M,Sm=1.8M,Sx=2.4M\\\\n\\\\r'\""
      ]
     },
     "execution_count": 9,
     "metadata": {},
     "output_type": "execute_result"
    }
   ],
   "source": [
    "d"
   ]
  },
  {
   "cell_type": "code",
   "execution_count": null,
   "metadata": {
    "collapsed": true
   },
   "outputs": [],
   "source": []
  }
 ],
 "metadata": {
  "anaconda-cloud": {},
  "kernelspec": {
   "display_name": "Python [default]",
   "language": "python",
   "name": "python3"
  },
  "language_info": {
   "codemirror_mode": {
    "name": "ipython",
    "version": 3
   },
   "file_extension": ".py",
   "mimetype": "text/x-python",
   "name": "python",
   "nbconvert_exporter": "python",
   "pygments_lexer": "ipython3",
   "version": "3.5.2"
  }
 },
 "nbformat": 4,
 "nbformat_minor": 1
}
